{
 "cells": [
  {
   "cell_type": "markdown",
   "id": "10730710",
   "metadata": {},
   "source": [
    "## 🔍 Importing Required Libraries\n",
    "We begin by importing essential Python libraries for data analysis."
   ]
  },
  {
   "cell_type": "code",
   "execution_count": null,
   "id": "63d0c1e5",
   "metadata": {},
   "outputs": [],
   "source": [
    "import pandas as pd\n",
    "import numpy as np\n",
    "import matplotlib.pyplot as plt\n",
    "import seaborn as sns"
   ]
  },
  {
   "cell_type": "markdown",
   "id": "0aab91e2",
   "metadata": {},
   "source": [
    "## 📂 Loading the Steam Dataset\n",
    "We load the dataset using `pd.read_csv()`."
   ]
  },
  {
   "cell_type": "code",
   "execution_count": null,
   "id": "dce1bc04",
   "metadata": {},
   "outputs": [],
   "source": [
    "df = pd.read_csv('steam.csv')"
   ]
  },
  {
   "cell_type": "markdown",
   "id": "fa822c2a",
   "metadata": {},
   "source": [
    "## 🧾 Dataset Overview\n",
    "Preview the first few rows to understand the data structure."
   ]
  },
  {
   "cell_type": "code",
   "execution_count": null,
   "id": "5ffd550a",
   "metadata": {},
   "outputs": [],
   "source": [
    "df.head()"
   ]
  },
  {
   "cell_type": "markdown",
   "id": "465ec23c",
   "metadata": {},
   "source": [
    "## 📏 Checking Dataset Dimensions\n",
    "Shows the number of rows and columns."
   ]
  },
  {
   "cell_type": "code",
   "execution_count": null,
   "id": "9ea77863",
   "metadata": {},
   "outputs": [],
   "source": [
    "df.shape"
   ]
  },
  {
   "cell_type": "markdown",
   "id": "3654dfe8",
   "metadata": {},
   "source": [
    "## 🧹 Removing Rows with Missing Order IDs\n",
    "Remove rows where `ORDER ID` is null."
   ]
  },
  {
   "cell_type": "code",
   "execution_count": null,
   "id": "03af83c5",
   "metadata": {},
   "outputs": [],
   "source": [
    "df.dropna(subset=['ORDER ID'], inplace=True)"
   ]
  },
  {
   "cell_type": "markdown",
   "id": "a8c1e7c5",
   "metadata": {},
   "source": [
    "## 🧠 Checking for Duplicates\n",
    "Identify duplicate entries based on `ORDER ID`."
   ]
  },
  {
   "cell_type": "code",
   "execution_count": null,
   "id": "d6764936",
   "metadata": {},
   "outputs": [],
   "source": [
    "df.groupby('ORDER ID').size().reset_index(name='count').query('count > 1')"
   ]
  }
 ],
 "metadata": {},
 "nbformat": 4,
 "nbformat_minor": 5
}
